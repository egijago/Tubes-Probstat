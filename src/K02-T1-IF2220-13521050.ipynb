{
 "cells": [
  {
   "cell_type": "code",
   "execution_count": 7,
   "metadata": {},
   "outputs": [],
   "source": [
    "import pandas as pd\n",
    "import numpy as np\n",
    "import matplotlib.pyplot as plt\n",
    "import scipy.stats as s\n",
    "import seaborn as sns\n",
    "from IPython.display import Markdown, display\n",
    "import math"
   ]
  },
  {
   "cell_type": "code",
   "execution_count": 8,
   "metadata": {},
   "outputs": [],
   "source": [
    "def markdown(input):\n",
    "    display(Markdown(input))"
   ]
  },
  {
   "cell_type": "code",
   "execution_count": 9,
   "metadata": {},
   "outputs": [
    {
     "data": {
      "text/html": [
       "<div>\n",
       "<style scoped>\n",
       "    .dataframe tbody tr th:only-of-type {\n",
       "        vertical-align: middle;\n",
       "    }\n",
       "\n",
       "    .dataframe tbody tr th {\n",
       "        vertical-align: top;\n",
       "    }\n",
       "\n",
       "    .dataframe thead th {\n",
       "        text-align: right;\n",
       "    }\n",
       "</style>\n",
       "<table border=\"1\" class=\"dataframe\">\n",
       "  <thead>\n",
       "    <tr style=\"text-align: right;\">\n",
       "      <th></th>\n",
       "      <th>fixed_acidity</th>\n",
       "      <th>volatile_acidity</th>\n",
       "      <th>citric_acid</th>\n",
       "      <th>residual_sugar</th>\n",
       "      <th>chlorides</th>\n",
       "      <th>free_sulfur_dioxide</th>\n",
       "      <th>total_sulfur dioxide</th>\n",
       "      <th>density</th>\n",
       "      <th>pH</th>\n",
       "      <th>sulphates</th>\n",
       "      <th>alcohol</th>\n",
       "      <th>quality</th>\n",
       "    </tr>\n",
       "  </thead>\n",
       "  <tbody>\n",
       "    <tr>\n",
       "      <th>0</th>\n",
       "      <td>5.90</td>\n",
       "      <td>0.4451</td>\n",
       "      <td>0.1813</td>\n",
       "      <td>2.049401</td>\n",
       "      <td>0.070574</td>\n",
       "      <td>16.593818</td>\n",
       "      <td>42.27</td>\n",
       "      <td>0.9982</td>\n",
       "      <td>3.27</td>\n",
       "      <td>0.71</td>\n",
       "      <td>8.64</td>\n",
       "      <td>7</td>\n",
       "    </tr>\n",
       "    <tr>\n",
       "      <th>1</th>\n",
       "      <td>8.40</td>\n",
       "      <td>0.5768</td>\n",
       "      <td>0.2099</td>\n",
       "      <td>3.109590</td>\n",
       "      <td>0.101681</td>\n",
       "      <td>22.555519</td>\n",
       "      <td>16.01</td>\n",
       "      <td>0.9960</td>\n",
       "      <td>3.35</td>\n",
       "      <td>0.57</td>\n",
       "      <td>10.03</td>\n",
       "      <td>8</td>\n",
       "    </tr>\n",
       "    <tr>\n",
       "      <th>2</th>\n",
       "      <td>7.54</td>\n",
       "      <td>0.5918</td>\n",
       "      <td>0.3248</td>\n",
       "      <td>3.673744</td>\n",
       "      <td>0.072416</td>\n",
       "      <td>9.316866</td>\n",
       "      <td>35.52</td>\n",
       "      <td>0.9990</td>\n",
       "      <td>3.31</td>\n",
       "      <td>0.64</td>\n",
       "      <td>9.23</td>\n",
       "      <td>8</td>\n",
       "    </tr>\n",
       "    <tr>\n",
       "      <th>3</th>\n",
       "      <td>5.39</td>\n",
       "      <td>0.4201</td>\n",
       "      <td>0.3131</td>\n",
       "      <td>3.371815</td>\n",
       "      <td>0.072755</td>\n",
       "      <td>18.212300</td>\n",
       "      <td>41.97</td>\n",
       "      <td>0.9945</td>\n",
       "      <td>3.34</td>\n",
       "      <td>0.55</td>\n",
       "      <td>14.07</td>\n",
       "      <td>9</td>\n",
       "    </tr>\n",
       "    <tr>\n",
       "      <th>4</th>\n",
       "      <td>6.51</td>\n",
       "      <td>0.5675</td>\n",
       "      <td>0.1940</td>\n",
       "      <td>4.404723</td>\n",
       "      <td>0.066379</td>\n",
       "      <td>9.360591</td>\n",
       "      <td>46.27</td>\n",
       "      <td>0.9925</td>\n",
       "      <td>3.27</td>\n",
       "      <td>0.45</td>\n",
       "      <td>11.49</td>\n",
       "      <td>8</td>\n",
       "    </tr>\n",
       "    <tr>\n",
       "      <th>...</th>\n",
       "      <td>...</td>\n",
       "      <td>...</td>\n",
       "      <td>...</td>\n",
       "      <td>...</td>\n",
       "      <td>...</td>\n",
       "      <td>...</td>\n",
       "      <td>...</td>\n",
       "      <td>...</td>\n",
       "      <td>...</td>\n",
       "      <td>...</td>\n",
       "      <td>...</td>\n",
       "      <td>...</td>\n",
       "    </tr>\n",
       "    <tr>\n",
       "      <th>995</th>\n",
       "      <td>7.96</td>\n",
       "      <td>0.6046</td>\n",
       "      <td>0.2662</td>\n",
       "      <td>1.592048</td>\n",
       "      <td>0.057555</td>\n",
       "      <td>14.892445</td>\n",
       "      <td>44.61</td>\n",
       "      <td>0.9975</td>\n",
       "      <td>3.35</td>\n",
       "      <td>0.54</td>\n",
       "      <td>10.41</td>\n",
       "      <td>8</td>\n",
       "    </tr>\n",
       "    <tr>\n",
       "      <th>996</th>\n",
       "      <td>8.48</td>\n",
       "      <td>0.4080</td>\n",
       "      <td>0.2227</td>\n",
       "      <td>0.681955</td>\n",
       "      <td>0.051627</td>\n",
       "      <td>23.548965</td>\n",
       "      <td>25.83</td>\n",
       "      <td>0.9972</td>\n",
       "      <td>3.41</td>\n",
       "      <td>0.46</td>\n",
       "      <td>9.91</td>\n",
       "      <td>8</td>\n",
       "    </tr>\n",
       "    <tr>\n",
       "      <th>997</th>\n",
       "      <td>6.11</td>\n",
       "      <td>0.4841</td>\n",
       "      <td>0.3720</td>\n",
       "      <td>2.377267</td>\n",
       "      <td>0.042806</td>\n",
       "      <td>21.624585</td>\n",
       "      <td>48.75</td>\n",
       "      <td>0.9928</td>\n",
       "      <td>3.23</td>\n",
       "      <td>0.55</td>\n",
       "      <td>9.94</td>\n",
       "      <td>7</td>\n",
       "    </tr>\n",
       "    <tr>\n",
       "      <th>998</th>\n",
       "      <td>7.76</td>\n",
       "      <td>0.3590</td>\n",
       "      <td>0.3208</td>\n",
       "      <td>4.294486</td>\n",
       "      <td>0.098276</td>\n",
       "      <td>12.746186</td>\n",
       "      <td>44.53</td>\n",
       "      <td>0.9952</td>\n",
       "      <td>3.30</td>\n",
       "      <td>0.66</td>\n",
       "      <td>9.76</td>\n",
       "      <td>8</td>\n",
       "    </tr>\n",
       "    <tr>\n",
       "      <th>999</th>\n",
       "      <td>5.87</td>\n",
       "      <td>0.5214</td>\n",
       "      <td>0.1883</td>\n",
       "      <td>2.179490</td>\n",
       "      <td>0.052923</td>\n",
       "      <td>16.203864</td>\n",
       "      <td>24.37</td>\n",
       "      <td>0.9983</td>\n",
       "      <td>3.29</td>\n",
       "      <td>0.70</td>\n",
       "      <td>10.17</td>\n",
       "      <td>7</td>\n",
       "    </tr>\n",
       "  </tbody>\n",
       "</table>\n",
       "<p>1000 rows × 12 columns</p>\n",
       "</div>"
      ],
      "text/plain": [
       "     fixed_acidity  volatile_acidity  citric_acid  residual_sugar  chlorides  \\\n",
       "0             5.90            0.4451       0.1813        2.049401   0.070574   \n",
       "1             8.40            0.5768       0.2099        3.109590   0.101681   \n",
       "2             7.54            0.5918       0.3248        3.673744   0.072416   \n",
       "3             5.39            0.4201       0.3131        3.371815   0.072755   \n",
       "4             6.51            0.5675       0.1940        4.404723   0.066379   \n",
       "..             ...               ...          ...             ...        ...   \n",
       "995           7.96            0.6046       0.2662        1.592048   0.057555   \n",
       "996           8.48            0.4080       0.2227        0.681955   0.051627   \n",
       "997           6.11            0.4841       0.3720        2.377267   0.042806   \n",
       "998           7.76            0.3590       0.3208        4.294486   0.098276   \n",
       "999           5.87            0.5214       0.1883        2.179490   0.052923   \n",
       "\n",
       "     free_sulfur_dioxide  total_sulfur dioxide  density    pH  sulphates  \\\n",
       "0              16.593818                 42.27   0.9982  3.27       0.71   \n",
       "1              22.555519                 16.01   0.9960  3.35       0.57   \n",
       "2               9.316866                 35.52   0.9990  3.31       0.64   \n",
       "3              18.212300                 41.97   0.9945  3.34       0.55   \n",
       "4               9.360591                 46.27   0.9925  3.27       0.45   \n",
       "..                   ...                   ...      ...   ...        ...   \n",
       "995            14.892445                 44.61   0.9975  3.35       0.54   \n",
       "996            23.548965                 25.83   0.9972  3.41       0.46   \n",
       "997            21.624585                 48.75   0.9928  3.23       0.55   \n",
       "998            12.746186                 44.53   0.9952  3.30       0.66   \n",
       "999            16.203864                 24.37   0.9983  3.29       0.70   \n",
       "\n",
       "     alcohol  quality  \n",
       "0       8.64        7  \n",
       "1      10.03        8  \n",
       "2       9.23        8  \n",
       "3      14.07        9  \n",
       "4      11.49        8  \n",
       "..       ...      ...  \n",
       "995    10.41        8  \n",
       "996     9.91        8  \n",
       "997     9.94        7  \n",
       "998     9.76        8  \n",
       "999    10.17        7  \n",
       "\n",
       "[1000 rows x 12 columns]"
      ]
     },
     "execution_count": 9,
     "metadata": {},
     "output_type": "execute_result"
    }
   ],
   "source": [
    "data_path = \"../data/anggur.csv\"\n",
    "df = pd.read_csv(data_path)\n",
    "df.columns = [\"fixed_acidity\", \"volatile_acidity\", \"citric_acid\", \"residual_sugar\", \"chlorides\", \"free_sulfur_dioxide\", \n",
    "              \"total_sulfur dioxide\", \"density\", \"pH\", \"sulphates\", \"alcohol\", \"quality\"]\n",
    "df"
   ]
  },
  {
   "attachments": {},
   "cell_type": "markdown",
   "metadata": {},
   "source": [
    "##### Nomor 1\n",
    "Menulis deskripsi statistika (Descriptive Statistics) dari semua kolom pada data yang bersifat\n",
    "numerik, terdiri dari mean, median, modus, standar deviasi, variansi, range, nilai minimum,\n",
    "maksimum, kuartil, IQR, skewness dan kurtosis. Boleh juga ditambahkan deskripsi lain."
   ]
  },
  {
   "cell_type": "code",
   "execution_count": 10,
   "metadata": {},
   "outputs": [],
   "source": [
    "from tabulate import tabulate\n",
    "def describe(column_name): \n",
    "    table = {}\n",
    "    temp = {}\n",
    "    df1 = df[column_name]\n",
    "    temp[\"Mean\"] = df1.mean()\n",
    "    temp[\"Median\"] = df1.median()\n",
    "    temp[\"Mode\"] = df1.mode()[0]\n",
    "    temp[\"Deviation\"] = df1.std()\n",
    "    temp[\"Variation\"] = df1.var()\n",
    "    temp[\"Range\"] = df1.max() - df1.min()\n",
    "    temp[\"Min\"] = df1.min()\n",
    "    temp[\"Max\"] = df1.max()\n",
    "    temp[\"1st Quartile\"] = df1.quantile(0.25)\n",
    "    temp[\"2nd Quartile\"] = df1.quantile(0.5)\n",
    "    temp[\"3rd Quartile\"] = df1.quantile(0.75)\n",
    "    temp[\"IQR\"] = df1.quantile(0.75) - df1.quantile(0.25)  \n",
    "    temp[\"Skew\"] = df1.skew()\n",
    "    temp[\"Kurtosis\"] = df1.kurtosis()\n",
    "    table[column_name] = temp\n",
    "    print(tabulate([k, v] for k, v in temp.items()))\n",
    "\n",
    "    "
   ]
  },
  {
   "cell_type": "code",
   "execution_count": 14,
   "metadata": {},
   "outputs": [
    {
     "data": {
      "text/markdown": [
       "#### fixed_acidity"
      ],
      "text/plain": [
       "<IPython.core.display.Markdown object>"
      ]
     },
     "metadata": {},
     "output_type": "display_data"
    },
    {
     "name": "stdout",
     "output_type": "stream",
     "text": [
      "------------  ----------\n",
      "Mean           7.15253\n",
      "Median         7.15\n",
      "Mode           6.54\n",
      "Deviation      1.2016\n",
      "Variation      1.44384\n",
      "Range          8.17\n",
      "Min            3.32\n",
      "Max           11.49\n",
      "1st Quartile   6.3775\n",
      "2nd Quartile   7.15\n",
      "3rd Quartile   8\n",
      "IQR            1.6225\n",
      "Skew          -0.0288786\n",
      "Kurtosis      -0.0192921\n",
      "------------  ----------\n"
     ]
    },
    {
     "data": {
      "text/markdown": [
       "#### volatile_acidity"
      ],
      "text/plain": [
       "<IPython.core.display.Markdown object>"
      ]
     },
     "metadata": {},
     "output_type": "display_data"
    },
    {
     "name": "stdout",
     "output_type": "stream",
     "text": [
      "------------  -----------\n",
      "Mean           0.520839\n",
      "Median         0.52485\n",
      "Mode           0.5546\n",
      "Deviation      0.0958483\n",
      "Variation      0.00918689\n",
      "Range          0.6652\n",
      "Min            0.1399\n",
      "Max            0.8051\n",
      "1st Quartile   0.4561\n",
      "2nd Quartile   0.52485\n",
      "3rd Quartile   0.585375\n",
      "IQR            0.129275\n",
      "Skew          -0.197699\n",
      "Kurtosis       0.161853\n",
      "------------  -----------\n"
     ]
    },
    {
     "data": {
      "text/markdown": [
       "#### citric_acid"
      ],
      "text/plain": [
       "<IPython.core.display.Markdown object>"
      ]
     },
     "metadata": {},
     "output_type": "display_data"
    },
    {
     "name": "stdout",
     "output_type": "stream",
     "text": [
      "------------  -----------\n",
      "Mean           0.270517\n",
      "Median         0.2722\n",
      "Mode           0.3019\n",
      "Deviation      0.0490984\n",
      "Variation      0.00241065\n",
      "Range          0.2929\n",
      "Min            0.1167\n",
      "Max            0.4096\n",
      "1st Quartile   0.2378\n",
      "2nd Quartile   0.2722\n",
      "3rd Quartile   0.302325\n",
      "IQR            0.064525\n",
      "Skew          -0.0455761\n",
      "Kurtosis      -0.104679\n",
      "------------  -----------\n"
     ]
    },
    {
     "data": {
      "text/markdown": [
       "#### residual_sugar"
      ],
      "text/plain": [
       "<IPython.core.display.Markdown object>"
      ]
     },
     "metadata": {},
     "output_type": "display_data"
    },
    {
     "name": "stdout",
     "output_type": "stream",
     "text": [
      "------------  ----------\n",
      "Mean           2.5671\n",
      "Median         2.51943\n",
      "Mode           0.0325545\n",
      "Deviation      0.987915\n",
      "Variation      0.975977\n",
      "Range          5.5182\n",
      "Min            0.0325545\n",
      "Max            5.55075\n",
      "1st Quartile   1.89633\n",
      "2nd Quartile   2.51943\n",
      "3rd Quartile   3.22087\n",
      "IQR            1.32454\n",
      "Skew           0.132638\n",
      "Kurtosis      -0.04298\n",
      "------------  ----------\n"
     ]
    },
    {
     "data": {
      "text/markdown": [
       "#### chlorides"
      ],
      "text/plain": [
       "<IPython.core.display.Markdown object>"
      ]
     },
     "metadata": {},
     "output_type": "display_data"
    },
    {
     "name": "stdout",
     "output_type": "stream",
     "text": [
      "------------  ------------\n",
      "Mean           0.0811952\n",
      "Median         0.0821669\n",
      "Mode           0.0151224\n",
      "Deviation      0.0201106\n",
      "Variation      0.000404438\n",
      "Range          0.125635\n",
      "Min            0.0151224\n",
      "Max            0.140758\n",
      "1st Quartile   0.0665736\n",
      "2nd Quartile   0.0821669\n",
      "3rd Quartile   0.0953115\n",
      "IQR            0.0287379\n",
      "Skew          -0.0513193\n",
      "Kurtosis      -0.246508\n",
      "------------  ------------\n"
     ]
    },
    {
     "data": {
      "text/markdown": [
       "#### free_sulfur_dioxide"
      ],
      "text/plain": [
       "<IPython.core.display.Markdown object>"
      ]
     },
     "metadata": {},
     "output_type": "display_data"
    },
    {
     "name": "stdout",
     "output_type": "stream",
     "text": [
      "------------  -----------\n",
      "Mean          14.9077\n",
      "Median        14.8603\n",
      "Mode           0.194679\n",
      "Deviation      4.8881\n",
      "Variation     23.8935\n",
      "Range         27.2678\n",
      "Min            0.194679\n",
      "Max           27.4625\n",
      "1st Quartile  11.4267\n",
      "2nd Quartile  14.8603\n",
      "3rd Quartile  18.3131\n",
      "IQR            6.88638\n",
      "Skew           0.00713042\n",
      "Kurtosis      -0.364964\n",
      "------------  -----------\n"
     ]
    },
    {
     "data": {
      "text/markdown": [
       "#### total_sulfur dioxide"
      ],
      "text/plain": [
       "<IPython.core.display.Markdown object>"
      ]
     },
     "metadata": {},
     "output_type": "display_data"
    },
    {
     "name": "stdout",
     "output_type": "stream",
     "text": [
      "------------  ----------\n",
      "Mean          40.2902\n",
      "Median        40.19\n",
      "Mode          35.2\n",
      "Deviation      9.96577\n",
      "Variation     99.3165\n",
      "Range         66.81\n",
      "Min            3.15\n",
      "Max           69.96\n",
      "1st Quartile  33.785\n",
      "2nd Quartile  40.19\n",
      "3rd Quartile  47.0225\n",
      "IQR           13.2375\n",
      "Skew          -0.02406\n",
      "Kurtosis       0.0639498\n",
      "------------  ----------\n"
     ]
    },
    {
     "data": {
      "text/markdown": [
       "#### density"
      ],
      "text/plain": [
       "<IPython.core.display.Markdown object>"
      ]
     },
     "metadata": {},
     "output_type": "display_data"
    },
    {
     "name": "stdout",
     "output_type": "stream",
     "text": [
      "------------  ------------\n",
      "Mean           0.995925\n",
      "Median         0.996\n",
      "Mode           0.9959\n",
      "Deviation      0.00202018\n",
      "Variation      4.08113e-06\n",
      "Range          0.0138\n",
      "Min            0.9888\n",
      "Max            1.0026\n",
      "1st Quartile   0.9946\n",
      "2nd Quartile   0.996\n",
      "3rd Quartile   0.9972\n",
      "IQR            0.0026\n",
      "Skew          -0.0768828\n",
      "Kurtosis       0.0163656\n",
      "------------  ------------\n"
     ]
    },
    {
     "data": {
      "text/markdown": [
       "#### pH"
      ],
      "text/plain": [
       "<IPython.core.display.Markdown object>"
      ]
     },
     "metadata": {},
     "output_type": "display_data"
    },
    {
     "name": "stdout",
     "output_type": "stream",
     "text": [
      "------------  ---------\n",
      "Mean          3.30361\n",
      "Median        3.3\n",
      "Mode          3.34\n",
      "Deviation     0.104875\n",
      "Variation     0.0109989\n",
      "Range         0.74\n",
      "Min           2.97\n",
      "Max           3.71\n",
      "1st Quartile  3.23\n",
      "2nd Quartile  3.3\n",
      "3rd Quartile  3.37\n",
      "IQR           0.14\n",
      "Skew          0.147673\n",
      "Kurtosis      0.0809096\n",
      "------------  ---------\n"
     ]
    },
    {
     "data": {
      "text/markdown": [
       "#### sulphates"
      ],
      "text/plain": [
       "<IPython.core.display.Markdown object>"
      ]
     },
     "metadata": {},
     "output_type": "display_data"
    },
    {
     "name": "stdout",
     "output_type": "stream",
     "text": [
      "------------  ---------\n",
      "Mean          0.59839\n",
      "Median        0.595\n",
      "Mode          0.59\n",
      "Deviation     0.100819\n",
      "Variation     0.0101645\n",
      "Range         0.67\n",
      "Min           0.29\n",
      "Max           0.96\n",
      "1st Quartile  0.53\n",
      "2nd Quartile  0.595\n",
      "3rd Quartile  0.67\n",
      "IQR           0.14\n",
      "Skew          0.149199\n",
      "Kurtosis      0.0648193\n",
      "------------  ---------\n"
     ]
    },
    {
     "data": {
      "text/markdown": [
       "#### alcohol"
      ],
      "text/plain": [
       "<IPython.core.display.Markdown object>"
      ]
     },
     "metadata": {},
     "output_type": "display_data"
    },
    {
     "name": "stdout",
     "output_type": "stream",
     "text": [
      "------------  ----------\n",
      "Mean          10.5923\n",
      "Median        10.61\n",
      "Mode           9.86\n",
      "Deviation      1.51071\n",
      "Variation      2.28223\n",
      "Range          8.99\n",
      "Min            6.03\n",
      "Max           15.02\n",
      "1st Quartile   9.56\n",
      "2nd Quartile  10.61\n",
      "3rd Quartile  11.6225\n",
      "IQR            2.0625\n",
      "Skew          -0.0189914\n",
      "Kurtosis      -0.131732\n",
      "------------  ----------\n"
     ]
    },
    {
     "data": {
      "text/markdown": [
       "#### quality"
      ],
      "text/plain": [
       "<IPython.core.display.Markdown object>"
      ]
     },
     "metadata": {},
     "output_type": "display_data"
    },
    {
     "name": "stdout",
     "output_type": "stream",
     "text": [
      "------------  ----------\n",
      "Mean           7.958\n",
      "Median         8\n",
      "Mode           8\n",
      "Deviation      0.902802\n",
      "Variation      0.815051\n",
      "Range          5\n",
      "Min            5\n",
      "Max           10\n",
      "1st Quartile   7\n",
      "2nd Quartile   8\n",
      "3rd Quartile   9\n",
      "IQR            2\n",
      "Skew          -0.0890541\n",
      "Kurtosis       0.108291\n",
      "------------  ----------\n"
     ]
    }
   ],
   "source": [
    "for column in list(df) :\n",
    "    markdown(f\"#### {column}\")\n",
    "    describe(column) "
   ]
  },
  {
   "attachments": {},
   "cell_type": "markdown",
   "metadata": {},
   "source": [
    "##### Nomor 2\n",
    "Membuat Visualisasi plot distribusi, dalam bentuk histogram dan boxplot untuk setiap kolom numerik. Berikan uraian penjelasan kondisi setiap kolom berdasarkan kedua plot\n",
    "tersebut."
   ]
  },
  {
   "attachments": {},
   "cell_type": "markdown",
   "metadata": {},
   "source": [
    "#### Nomor 3 \n",
    "Menentukan setiap kolom numerik berdistribusi normal atau tidak. Gunakan normality test\n",
    "yang dikaitkan dengan histogram plot."
   ]
  },
  {
   "cell_type": "code",
   "execution_count": null,
   "metadata": {},
   "outputs": [],
   "source": []
  },
  {
   "attachments": {},
   "cell_type": "markdown",
   "metadata": {},
   "source": [
    "##### Nomor 4\n",
    "Melakukan test hipotesis 1 sampel,\n",
    "+ Nilai rata-rata pH di atas 3.29?\n",
    "+ Nilai rata-rata Residual Sugar tidak sama dengan 2.50?\n",
    "+ Nilai rata-rata 150 baris pertama kolom sulphates bukan 0.65?\n",
    "+ Nilai rata-rata total sulfur dioxide di bawah 35?\n",
    "+ Proporsi nilai total sulfur dioxide yang lebih dari 40, adalah tidak sama dengan 50% ?"
   ]
  },
  {
   "cell_type": "code",
   "execution_count": null,
   "metadata": {},
   "outputs": [],
   "source": []
  },
  {
   "attachments": {},
   "cell_type": "markdown",
   "metadata": {},
   "source": [
    "##### Nomor 5\n",
    "Melakukan test hipotesis 2 sampel,\n",
    "+ Data kolom fixed acidity dibagi 2 sama rata: bagian awal dan bagian akhir kolom.\n",
    "Benarkah rata-rata kedua bagian tersebut sama?\n",
    "+ Data kolom chlorides dibagi 2 sama rata: bagian awal dan bagian akhir kolom. Benarkah\n",
    "rata-rata bagian awal lebih besar daripada bagian akhir sebesar 0.001?\n",
    "+ Benarkah rata-rata sampel 25 baris pertama kolom Volatile Acidity sama dengan\n",
    "rata-rata 25 baris pertama kolom Sulphates ?\n",
    "+ Bagian awal kolom residual sugar memiliki variansi yang sama dengan bagian akhirnya?\n",
    "+ Proporsi nilai setengah bagian awal alcohol yang lebih dari 7, adalah lebih besar daripada, proporsi nilai yang sama di setengah bagian akhir alcohol?"
   ]
  },
  {
   "cell_type": "markdown",
   "metadata": {},
   "source": []
  }
 ],
 "metadata": {
  "kernelspec": {
   "display_name": "Tubes1Probstat",
   "language": "python",
   "name": "python3"
  },
  "language_info": {
   "codemirror_mode": {
    "name": "ipython",
    "version": 3
   },
   "file_extension": ".py",
   "mimetype": "text/x-python",
   "name": "python",
   "nbconvert_exporter": "python",
   "pygments_lexer": "ipython3",
   "version": "3.11.2"
  },
  "orig_nbformat": 4
 },
 "nbformat": 4,
 "nbformat_minor": 2
}
